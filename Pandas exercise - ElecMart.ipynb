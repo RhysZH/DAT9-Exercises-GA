{
 "cells": [
  {
   "cell_type": "code",
   "execution_count": 44,
   "metadata": {
    "scrolled": true
   },
   "outputs": [
    {
     "data": {
      "text/html": [
       "<div>\n",
       "<style scoped>\n",
       "    .dataframe tbody tr th:only-of-type {\n",
       "        vertical-align: middle;\n",
       "    }\n",
       "\n",
       "    .dataframe tbody tr th {\n",
       "        vertical-align: top;\n",
       "    }\n",
       "\n",
       "    .dataframe thead th {\n",
       "        text-align: right;\n",
       "    }\n",
       "</style>\n",
       "<table border=\"1\" class=\"dataframe\">\n",
       "  <thead>\n",
       "    <tr style=\"text-align: right;\">\n",
       "      <th></th>\n",
       "      <th>Date</th>\n",
       "      <th>Day</th>\n",
       "      <th>Time</th>\n",
       "      <th>Region</th>\n",
       "      <th>Card Type</th>\n",
       "      <th>Gender</th>\n",
       "      <th>Buy Category</th>\n",
       "      <th>Items Ordered</th>\n",
       "      <th>Total Cost</th>\n",
       "      <th>High Item</th>\n",
       "    </tr>\n",
       "  </thead>\n",
       "  <tbody>\n",
       "    <tr>\n",
       "      <th>0</th>\n",
       "      <td>2016-03-06</td>\n",
       "      <td>Sun</td>\n",
       "      <td>Morning</td>\n",
       "      <td>West</td>\n",
       "      <td>ElecMart</td>\n",
       "      <td>Female</td>\n",
       "      <td>High</td>\n",
       "      <td>4</td>\n",
       "      <td>136.97</td>\n",
       "      <td>79.97</td>\n",
       "    </tr>\n",
       "    <tr>\n",
       "      <th>1</th>\n",
       "      <td>2016-03-06</td>\n",
       "      <td>Sun</td>\n",
       "      <td>Morning</td>\n",
       "      <td>West</td>\n",
       "      <td>Other</td>\n",
       "      <td>Female</td>\n",
       "      <td>Medium</td>\n",
       "      <td>1</td>\n",
       "      <td>25.55</td>\n",
       "      <td>25.55</td>\n",
       "    </tr>\n",
       "    <tr>\n",
       "      <th>2</th>\n",
       "      <td>2016-03-06</td>\n",
       "      <td>Sun</td>\n",
       "      <td>Afternoon</td>\n",
       "      <td>West</td>\n",
       "      <td>ElecMart</td>\n",
       "      <td>Female</td>\n",
       "      <td>Medium</td>\n",
       "      <td>5</td>\n",
       "      <td>113.95</td>\n",
       "      <td>90.47</td>\n",
       "    </tr>\n",
       "    <tr>\n",
       "      <th>3</th>\n",
       "      <td>2016-03-06</td>\n",
       "      <td>Sun</td>\n",
       "      <td>Afternoon</td>\n",
       "      <td>NorthEast</td>\n",
       "      <td>Other</td>\n",
       "      <td>Female</td>\n",
       "      <td>Low</td>\n",
       "      <td>1</td>\n",
       "      <td>6.82</td>\n",
       "      <td>6.82</td>\n",
       "    </tr>\n",
       "    <tr>\n",
       "      <th>4</th>\n",
       "      <td>2016-03-06</td>\n",
       "      <td>Sun</td>\n",
       "      <td>Afternoon</td>\n",
       "      <td>West</td>\n",
       "      <td>ElecMart</td>\n",
       "      <td>Male</td>\n",
       "      <td>Medium</td>\n",
       "      <td>4</td>\n",
       "      <td>147.32</td>\n",
       "      <td>83.21</td>\n",
       "    </tr>\n",
       "  </tbody>\n",
       "</table>\n",
       "</div>"
      ],
      "text/plain": [
       "        Date  Day       Time     Region Card Type  Gender Buy Category  \\\n",
       "0 2016-03-06  Sun    Morning       West  ElecMart  Female         High   \n",
       "1 2016-03-06  Sun    Morning       West     Other  Female       Medium   \n",
       "2 2016-03-06  Sun  Afternoon       West  ElecMart  Female       Medium   \n",
       "3 2016-03-06  Sun  Afternoon  NorthEast     Other  Female          Low   \n",
       "4 2016-03-06  Sun  Afternoon       West  ElecMart    Male       Medium   \n",
       "\n",
       "   Items Ordered  Total Cost  High Item  \n",
       "0              4      136.97      79.97  \n",
       "1              1       25.55      25.55  \n",
       "2              5      113.95      90.47  \n",
       "3              1        6.82       6.82  \n",
       "4              4      147.32      83.21  "
      ]
     },
     "execution_count": 44,
     "metadata": {},
     "output_type": "execute_result"
    }
   ],
   "source": [
    "import pandas as pd\n",
    "import numpy as np\n",
    "import matplotlib as plt\n",
    "\n",
    "%matplotlib inline\n",
    "DATA = r'/Users/meisan/Documents/GitHub/classes/pandas_practice/ElecmartSales.xlsx'\n",
    "df = pd.read_excel(DATA)\n",
    "df.head()"
   ]
  },
  {
   "cell_type": "code",
   "execution_count": 45,
   "metadata": {},
   "outputs": [
    {
     "name": "stdout",
     "output_type": "stream",
     "text": [
      "<class 'pandas.core.frame.DataFrame'>\n",
      "RangeIndex: 400 entries, 0 to 399\n",
      "Data columns (total 10 columns):\n",
      "Date             400 non-null datetime64[ns]\n",
      "Day              400 non-null object\n",
      "Time             400 non-null object\n",
      "Region           400 non-null object\n",
      "Card Type        400 non-null object\n",
      "Gender           400 non-null object\n",
      "Buy Category     400 non-null object\n",
      "Items Ordered    400 non-null int64\n",
      "Total Cost       400 non-null float64\n",
      "High Item        400 non-null float64\n",
      "dtypes: datetime64[ns](1), float64(2), int64(1), object(6)\n",
      "memory usage: 31.3+ KB\n"
     ]
    }
   ],
   "source": [
    "df.info()"
   ]
  },
  {
   "cell_type": "code",
   "execution_count": 46,
   "metadata": {},
   "outputs": [
    {
     "data": {
      "text/plain": [
       "Time\n",
       "Afternoon    24265.60\n",
       "Evening      18834.30\n",
       "Morning      18427.31\n",
       "Name: Total Cost, dtype: float64"
      ]
     },
     "execution_count": 46,
     "metadata": {},
     "output_type": "execute_result"
    }
   ],
   "source": [
    "#1.During which Time of the day do customers spend the most (based on Total Cost)?\n",
    "dl = df.groupby('Time')['Total Cost'].sum()\n",
    "dl"
   ]
  },
  {
   "cell_type": "code",
   "execution_count": null,
   "metadata": {},
   "outputs": [],
   "source": []
  },
  {
   "cell_type": "code",
   "execution_count": 47,
   "metadata": {},
   "outputs": [
    {
     "data": {
      "text/plain": [
       "Gender\n",
       "Female    157.672051\n",
       "Male      148.385241\n",
       "Name: Total Cost, dtype: float64"
      ]
     },
     "execution_count": 47,
     "metadata": {},
     "output_type": "execute_result"
    }
   ],
   "source": [
    "#2.Do male customers spend more than females (based on Total Cost)?\n",
    "dg = df.groupby('Gender')['Total Cost'].mean()\n",
    "dg"
   ]
  },
  {
   "cell_type": "markdown",
   "metadata": {},
   "source": [
    "1.\tDuring which Time of the day do customers spend the most (based on Total Cost)?\n",
    "2.\tDo male customers spend more than females (based on Total Cost)?\n",
    "3.\tWhich Region brought in the highest revenue (based on Total Cost) for ElecMart?\n",
    "4.\tIs the ElecMart card more popular among female or male customers?\n",
    "5.\tWhich Day of the week brought in the highest revenue for ElecMart?\n",
    "6.\tAmong ElecMart card-holders, which Region brought in the highest revenue?\n",
    "7.\tWhich Region has the greatest number of female customers?\n",
    "8.\tFemale customers prefer to place orders at ElecMart in the morning. True or False?\n",
    "9.\tMale customers prefer to place orders in the evening. True or False?\n",
    "10.\tHow many of the orders were placed by females in the South region?"
   ]
  },
  {
   "cell_type": "code",
   "execution_count": 49,
   "metadata": {},
   "outputs": [
    {
     "data": {
      "text/plain": [
       "Region\n",
       "MidWest       9618.27\n",
       "NorthEast    19185.84\n",
       "South        13429.70\n",
       "West         19293.40\n",
       "Name: Total Cost, dtype: float64"
      ]
     },
     "execution_count": 49,
     "metadata": {},
     "output_type": "execute_result"
    }
   ],
   "source": [
    "#3.\tWhich Region brought in the highest revenue (based on Total Cost) for ElecMart?\n",
    "dr =  df.groupby('Region')['Total Cost'].sum()\n",
    "dr"
   ]
  },
  {
   "cell_type": "code",
   "execution_count": 50,
   "metadata": {},
   "outputs": [
    {
     "data": {
      "text/html": [
       "<div>\n",
       "<style scoped>\n",
       "    .dataframe tbody tr th:only-of-type {\n",
       "        vertical-align: middle;\n",
       "    }\n",
       "\n",
       "    .dataframe tbody tr th {\n",
       "        vertical-align: top;\n",
       "    }\n",
       "\n",
       "    .dataframe thead th {\n",
       "        text-align: right;\n",
       "    }\n",
       "</style>\n",
       "<table border=\"1\" class=\"dataframe\">\n",
       "  <thead>\n",
       "    <tr style=\"text-align: right;\">\n",
       "      <th></th>\n",
       "      <th></th>\n",
       "      <th>Items Ordered</th>\n",
       "      <th>Total Cost</th>\n",
       "      <th>High Item</th>\n",
       "    </tr>\n",
       "    <tr>\n",
       "      <th>Gender</th>\n",
       "      <th>Card Type</th>\n",
       "      <th></th>\n",
       "      <th></th>\n",
       "      <th></th>\n",
       "    </tr>\n",
       "  </thead>\n",
       "  <tbody>\n",
       "    <tr>\n",
       "      <th rowspan=\"2\" valign=\"top\">Female</th>\n",
       "      <th>ElecMart</th>\n",
       "      <td>288</td>\n",
       "      <td>13858.10</td>\n",
       "      <td>9321.67</td>\n",
       "    </tr>\n",
       "    <tr>\n",
       "      <th>Other</th>\n",
       "      <td>539</td>\n",
       "      <td>23037.16</td>\n",
       "      <td>14906.71</td>\n",
       "    </tr>\n",
       "    <tr>\n",
       "      <th rowspan=\"2\" valign=\"top\">Male</th>\n",
       "      <th>ElecMart</th>\n",
       "      <td>139</td>\n",
       "      <td>6680.94</td>\n",
       "      <td>3558.08</td>\n",
       "    </tr>\n",
       "    <tr>\n",
       "      <th>Other</th>\n",
       "      <td>421</td>\n",
       "      <td>17951.01</td>\n",
       "      <td>12390.59</td>\n",
       "    </tr>\n",
       "  </tbody>\n",
       "</table>\n",
       "</div>"
      ],
      "text/plain": [
       "                  Items Ordered  Total Cost  High Item\n",
       "Gender Card Type                                      \n",
       "Female ElecMart             288    13858.10    9321.67\n",
       "       Other                539    23037.16   14906.71\n",
       "Male   ElecMart             139     6680.94    3558.08\n",
       "       Other                421    17951.01   12390.59"
      ]
     },
     "execution_count": 50,
     "metadata": {},
     "output_type": "execute_result"
    }
   ],
   "source": [
    "#4.\tIs the ElecMart card more popular among female or male customers?\n",
    "de = df.groupby(['Gender','Card Type']).sum()\n",
    "de"
   ]
  },
  {
   "cell_type": "code",
   "execution_count": 51,
   "metadata": {},
   "outputs": [
    {
     "data": {
      "text/plain": [
       "Day\n",
       "Fri    10472.51\n",
       "Mon     9537.97\n",
       "Sat     9967.21\n",
       "Sun     8778.37\n",
       "Thu     6944.21\n",
       "Tue     6008.17\n",
       "Wed     9818.77\n",
       "Name: Total Cost, dtype: float64"
      ]
     },
     "execution_count": 51,
     "metadata": {},
     "output_type": "execute_result"
    }
   ],
   "source": [
    "#5.\tWhich Day of the week brought in the highest revenue for ElecMart?\n",
    "dl = df.groupby('Day')['Total Cost'].sum()\n",
    "dl"
   ]
  },
  {
   "cell_type": "code",
   "execution_count": 52,
   "metadata": {},
   "outputs": [
    {
     "data": {
      "text/plain": [
       "Region\n",
       "MidWest      3212.73\n",
       "NorthEast    6885.71\n",
       "South        4304.53\n",
       "West         6136.07\n",
       "Name: Total Cost, dtype: float64"
      ]
     },
     "execution_count": 52,
     "metadata": {},
     "output_type": "execute_result"
    }
   ],
   "source": [
    "#6.\tAmong ElecMart card-holders, which Region brought in the highest revenue?\n",
    "dc = df.loc[df['Card Type'] == 'ElecMart']\n",
    "dv = dc.groupby('Region')['Total Cost'].sum()\n",
    "dv"
   ]
  },
  {
   "cell_type": "code",
   "execution_count": 53,
   "metadata": {},
   "outputs": [
    {
     "data": {
      "text/html": [
       "<div>\n",
       "<style scoped>\n",
       "    .dataframe tbody tr th:only-of-type {\n",
       "        vertical-align: middle;\n",
       "    }\n",
       "\n",
       "    .dataframe tbody tr th {\n",
       "        vertical-align: top;\n",
       "    }\n",
       "\n",
       "    .dataframe thead th {\n",
       "        text-align: right;\n",
       "    }\n",
       "</style>\n",
       "<table border=\"1\" class=\"dataframe\">\n",
       "  <thead>\n",
       "    <tr style=\"text-align: right;\">\n",
       "      <th></th>\n",
       "      <th></th>\n",
       "      <th>Items Ordered</th>\n",
       "      <th>Total Cost</th>\n",
       "      <th>High Item</th>\n",
       "    </tr>\n",
       "    <tr>\n",
       "      <th>Region</th>\n",
       "      <th>Gender</th>\n",
       "      <th></th>\n",
       "      <th></th>\n",
       "      <th></th>\n",
       "    </tr>\n",
       "  </thead>\n",
       "  <tbody>\n",
       "    <tr>\n",
       "      <th rowspan=\"2\" valign=\"top\">MidWest</th>\n",
       "      <th>Female</th>\n",
       "      <td>136</td>\n",
       "      <td>6383.84</td>\n",
       "      <td>4168.20</td>\n",
       "    </tr>\n",
       "    <tr>\n",
       "      <th>Male</th>\n",
       "      <td>71</td>\n",
       "      <td>3234.43</td>\n",
       "      <td>2257.33</td>\n",
       "    </tr>\n",
       "    <tr>\n",
       "      <th rowspan=\"2\" valign=\"top\">NorthEast</th>\n",
       "      <th>Female</th>\n",
       "      <td>237</td>\n",
       "      <td>10175.03</td>\n",
       "      <td>6229.55</td>\n",
       "    </tr>\n",
       "    <tr>\n",
       "      <th>Male</th>\n",
       "      <td>209</td>\n",
       "      <td>9010.81</td>\n",
       "      <td>5248.67</td>\n",
       "    </tr>\n",
       "    <tr>\n",
       "      <th rowspan=\"2\" valign=\"top\">South</th>\n",
       "      <th>Female</th>\n",
       "      <td>194</td>\n",
       "      <td>9028.70</td>\n",
       "      <td>6156.75</td>\n",
       "    </tr>\n",
       "    <tr>\n",
       "      <th>Male</th>\n",
       "      <td>86</td>\n",
       "      <td>4401.00</td>\n",
       "      <td>3204.68</td>\n",
       "    </tr>\n",
       "    <tr>\n",
       "      <th rowspan=\"2\" valign=\"top\">West</th>\n",
       "      <th>Female</th>\n",
       "      <td>260</td>\n",
       "      <td>11307.69</td>\n",
       "      <td>7673.88</td>\n",
       "    </tr>\n",
       "    <tr>\n",
       "      <th>Male</th>\n",
       "      <td>194</td>\n",
       "      <td>7985.71</td>\n",
       "      <td>5237.99</td>\n",
       "    </tr>\n",
       "  </tbody>\n",
       "</table>\n",
       "</div>"
      ],
      "text/plain": [
       "                  Items Ordered  Total Cost  High Item\n",
       "Region    Gender                                      \n",
       "MidWest   Female            136     6383.84    4168.20\n",
       "          Male               71     3234.43    2257.33\n",
       "NorthEast Female            237    10175.03    6229.55\n",
       "          Male              209     9010.81    5248.67\n",
       "South     Female            194     9028.70    6156.75\n",
       "          Male               86     4401.00    3204.68\n",
       "West      Female            260    11307.69    7673.88\n",
       "          Male              194     7985.71    5237.99"
      ]
     },
     "execution_count": 53,
     "metadata": {},
     "output_type": "execute_result"
    }
   ],
   "source": [
    "#7.\tWhich Region has the greatest number of female customers?\n",
    "de = df.groupby(['Region','Gender']).sum()\n",
    "de"
   ]
  },
  {
   "cell_type": "code",
   "execution_count": 54,
   "metadata": {},
   "outputs": [
    {
     "data": {
      "text/html": [
       "<div>\n",
       "<style scoped>\n",
       "    .dataframe tbody tr th:only-of-type {\n",
       "        vertical-align: middle;\n",
       "    }\n",
       "\n",
       "    .dataframe tbody tr th {\n",
       "        vertical-align: top;\n",
       "    }\n",
       "\n",
       "    .dataframe thead th {\n",
       "        text-align: right;\n",
       "    }\n",
       "</style>\n",
       "<table border=\"1\" class=\"dataframe\">\n",
       "  <thead>\n",
       "    <tr style=\"text-align: right;\">\n",
       "      <th></th>\n",
       "      <th>Items Ordered</th>\n",
       "      <th>Total Cost</th>\n",
       "      <th>High Item</th>\n",
       "    </tr>\n",
       "    <tr>\n",
       "      <th>Time</th>\n",
       "      <th></th>\n",
       "      <th></th>\n",
       "      <th></th>\n",
       "    </tr>\n",
       "  </thead>\n",
       "  <tbody>\n",
       "    <tr>\n",
       "      <th>Afternoon</th>\n",
       "      <td>410</td>\n",
       "      <td>18582.81</td>\n",
       "      <td>12105.99</td>\n",
       "    </tr>\n",
       "    <tr>\n",
       "      <th>Evening</th>\n",
       "      <td>122</td>\n",
       "      <td>5582.33</td>\n",
       "      <td>3900.29</td>\n",
       "    </tr>\n",
       "    <tr>\n",
       "      <th>Morning</th>\n",
       "      <td>295</td>\n",
       "      <td>12730.12</td>\n",
       "      <td>8222.10</td>\n",
       "    </tr>\n",
       "  </tbody>\n",
       "</table>\n",
       "</div>"
      ],
      "text/plain": [
       "           Items Ordered  Total Cost  High Item\n",
       "Time                                           \n",
       "Afternoon            410    18582.81   12105.99\n",
       "Evening              122     5582.33    3900.29\n",
       "Morning              295    12730.12    8222.10"
      ]
     },
     "execution_count": 54,
     "metadata": {},
     "output_type": "execute_result"
    }
   ],
   "source": [
    "#8.\tFemale customers prefer to place orders at ElecMart in the morning. True or False?\n",
    "dc = df.loc[df['Gender'] == 'Female']\n",
    "dv = dc.groupby('Time').sum()\n",
    "dv"
   ]
  },
  {
   "cell_type": "code",
   "execution_count": 55,
   "metadata": {},
   "outputs": [
    {
     "data": {
      "text/html": [
       "<div>\n",
       "<style scoped>\n",
       "    .dataframe tbody tr th:only-of-type {\n",
       "        vertical-align: middle;\n",
       "    }\n",
       "\n",
       "    .dataframe tbody tr th {\n",
       "        vertical-align: top;\n",
       "    }\n",
       "\n",
       "    .dataframe thead th {\n",
       "        text-align: right;\n",
       "    }\n",
       "</style>\n",
       "<table border=\"1\" class=\"dataframe\">\n",
       "  <thead>\n",
       "    <tr style=\"text-align: right;\">\n",
       "      <th></th>\n",
       "      <th>Items Ordered</th>\n",
       "      <th>Total Cost</th>\n",
       "      <th>High Item</th>\n",
       "    </tr>\n",
       "    <tr>\n",
       "      <th>Time</th>\n",
       "      <th></th>\n",
       "      <th></th>\n",
       "      <th></th>\n",
       "    </tr>\n",
       "  </thead>\n",
       "  <tbody>\n",
       "    <tr>\n",
       "      <th>Afternoon</th>\n",
       "      <td>140</td>\n",
       "      <td>5682.79</td>\n",
       "      <td>3358.82</td>\n",
       "    </tr>\n",
       "    <tr>\n",
       "      <th>Evening</th>\n",
       "      <td>292</td>\n",
       "      <td>13251.97</td>\n",
       "      <td>8549.54</td>\n",
       "    </tr>\n",
       "    <tr>\n",
       "      <th>Morning</th>\n",
       "      <td>128</td>\n",
       "      <td>5697.19</td>\n",
       "      <td>4040.31</td>\n",
       "    </tr>\n",
       "  </tbody>\n",
       "</table>\n",
       "</div>"
      ],
      "text/plain": [
       "           Items Ordered  Total Cost  High Item\n",
       "Time                                           \n",
       "Afternoon            140     5682.79    3358.82\n",
       "Evening              292    13251.97    8549.54\n",
       "Morning              128     5697.19    4040.31"
      ]
     },
     "execution_count": 55,
     "metadata": {},
     "output_type": "execute_result"
    }
   ],
   "source": [
    "#9.\tMale customers prefer to place orders in the evening. True or False?\\\n",
    "dc = df.loc[df['Gender'] == 'Male']\n",
    "dv = dc.groupby('Time').sum()\n",
    "dv"
   ]
  },
  {
   "cell_type": "code",
   "execution_count": 57,
   "metadata": {},
   "outputs": [
    {
     "ename": "SyntaxError",
     "evalue": "invalid syntax (<ipython-input-57-49a5ad3f10be>, line 1)",
     "output_type": "error",
     "traceback": [
      "\u001b[0;36m  File \u001b[0;32m\"<ipython-input-57-49a5ad3f10be>\"\u001b[0;36m, line \u001b[0;32m1\u001b[0m\n\u001b[0;31m    df[df[['Card Type'] == ['ElecMart']]].groupby('Gender)['Card Type'].sum()\u001b[0m\n\u001b[0m                                                               ^\u001b[0m\n\u001b[0;31mSyntaxError\u001b[0m\u001b[0;31m:\u001b[0m invalid syntax\n"
     ]
    }
   ],
   "source": [
    "df[df[['Card Type'] == ['ElecMart']]].groupby('Gender)['Card Type'].sum()"
   ]
  },
  {
   "cell_type": "code",
   "execution_count": null,
   "metadata": {},
   "outputs": [],
   "source": []
  },
  {
   "cell_type": "code",
   "execution_count": null,
   "metadata": {},
   "outputs": [],
   "source": []
  },
  {
   "cell_type": "code",
   "execution_count": null,
   "metadata": {},
   "outputs": [],
   "source": []
  }
 ],
 "metadata": {
  "kernelspec": {
   "display_name": "Python 3",
   "language": "python",
   "name": "python3"
  },
  "language_info": {
   "codemirror_mode": {
    "name": "ipython",
    "version": 3
   },
   "file_extension": ".py",
   "mimetype": "text/x-python",
   "name": "python",
   "nbconvert_exporter": "python",
   "pygments_lexer": "ipython3",
   "version": "3.6.5"
  }
 },
 "nbformat": 4,
 "nbformat_minor": 2
}
